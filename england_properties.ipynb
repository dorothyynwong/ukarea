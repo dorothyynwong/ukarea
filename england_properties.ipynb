{
 "cells": [
  {
   "cell_type": "code",
   "execution_count": 1,
   "id": "a2515f7a",
   "metadata": {},
   "outputs": [],
   "source": [
    "#import libraries\n",
    "\n",
    "import pandas as pd\n",
    "import numpy as np"
   ]
  },
  {
   "cell_type": "code",
   "execution_count": 2,
   "id": "2d488e83",
   "metadata": {},
   "outputs": [
    {
     "name": "stderr",
     "output_type": "stream",
     "text": [
      "C:\\Users\\dorot\\anaconda3\\lib\\site-packages\\IPython\\core\\interactiveshell.py:3444: DtypeWarning: Columns (31,36) have mixed types.Specify dtype option on import or set low_memory=False.\n",
      "  exec(code_obj, self.user_global_ns, self.user_ns)\n"
     ]
    }
   ],
   "source": [
    "#load data\n",
    "eng_properties = pd.read_csv(\"Data/all_properties.csv\") #price paid of properties in england\n",
    "all_postcodes = pd.read_csv(\"Data/NSPL_FEB_2022_UK.csv\") #postcodes and their corresponding local authority codes\n",
    "all_LA = pd.read_csv(\"Data/LA_UA_name_and_codes_UK_as_at_04_21.csv\") #local authority codes and names\n",
    "\n",
    "output_summary = \"Data/eng_properties_summary.csv\"\n",
    "output_details = \"Data/eng_properties_details.csv\"\n"
   ]
  },
  {
   "cell_type": "code",
   "execution_count": 3,
   "id": "10efad0c",
   "metadata": {},
   "outputs": [
    {
     "data": {
      "text/html": [
       "<div>\n",
       "<style scoped>\n",
       "    .dataframe tbody tr th:only-of-type {\n",
       "        vertical-align: middle;\n",
       "    }\n",
       "\n",
       "    .dataframe tbody tr th {\n",
       "        vertical-align: top;\n",
       "    }\n",
       "\n",
       "    .dataframe thead th {\n",
       "        text-align: right;\n",
       "    }\n",
       "</style>\n",
       "<table border=\"1\" class=\"dataframe\">\n",
       "  <thead>\n",
       "    <tr style=\"text-align: right;\">\n",
       "      <th></th>\n",
       "      <th>unique_id</th>\n",
       "      <th>price_paid</th>\n",
       "      <th>deed_date</th>\n",
       "      <th>postcode</th>\n",
       "      <th>property_type</th>\n",
       "      <th>new_build</th>\n",
       "      <th>estate_type</th>\n",
       "      <th>saon</th>\n",
       "      <th>paon</th>\n",
       "      <th>street</th>\n",
       "      <th>locality</th>\n",
       "      <th>town</th>\n",
       "      <th>district</th>\n",
       "      <th>county</th>\n",
       "      <th>transaction_category</th>\n",
       "      <th>linked_data_uri</th>\n",
       "    </tr>\n",
       "  </thead>\n",
       "  <tbody>\n",
       "    <tr>\n",
       "      <th>0</th>\n",
       "      <td>CFC9085C-4A0B-9A70-E053-6B04A8C09D6A</td>\n",
       "      <td>393000</td>\n",
       "      <td>2021-05-24</td>\n",
       "      <td>EN5 1JQ</td>\n",
       "      <td>F</td>\n",
       "      <td>N</td>\n",
       "      <td>L</td>\n",
       "      <td>1</td>\n",
       "      <td>LYONSDOWN COURT, 41</td>\n",
       "      <td>LYONSDOWN ROAD</td>\n",
       "      <td>NEW BARNET</td>\n",
       "      <td>BARNET</td>\n",
       "      <td>CENTRAL BEDFORDSHIRE</td>\n",
       "      <td>CENTRAL BEDFORDSHIRE</td>\n",
       "      <td>A</td>\n",
       "      <td>http://landregistry.data.gov.uk/data/ppi/trans...</td>\n",
       "    </tr>\n",
       "    <tr>\n",
       "      <th>1</th>\n",
       "      <td>CB0035E5-7E47-58AE-E053-6B04A8C091AF</td>\n",
       "      <td>740000</td>\n",
       "      <td>2021-04-27</td>\n",
       "      <td>LU1 4AD</td>\n",
       "      <td>D</td>\n",
       "      <td>N</td>\n",
       "      <td>F</td>\n",
       "      <td>NaN</td>\n",
       "      <td>MANOR FARM HOUSE</td>\n",
       "      <td>LUTON ROAD</td>\n",
       "      <td>CADDINGTON</td>\n",
       "      <td>LUTON</td>\n",
       "      <td>CENTRAL BEDFORDSHIRE</td>\n",
       "      <td>CENTRAL BEDFORDSHIRE</td>\n",
       "      <td>A</td>\n",
       "      <td>http://landregistry.data.gov.uk/data/ppi/trans...</td>\n",
       "    </tr>\n",
       "    <tr>\n",
       "      <th>2</th>\n",
       "      <td>D707E534-BFF1-0AD9-E053-6B04A8C067CC</td>\n",
       "      <td>270000</td>\n",
       "      <td>2021-06-30</td>\n",
       "      <td>LU1 4AF</td>\n",
       "      <td>T</td>\n",
       "      <td>N</td>\n",
       "      <td>F</td>\n",
       "      <td>NaN</td>\n",
       "      <td>21</td>\n",
       "      <td>LUTON ROAD</td>\n",
       "      <td>CADDINGTON</td>\n",
       "      <td>LUTON</td>\n",
       "      <td>CENTRAL BEDFORDSHIRE</td>\n",
       "      <td>CENTRAL BEDFORDSHIRE</td>\n",
       "      <td>A</td>\n",
       "      <td>http://landregistry.data.gov.uk/data/ppi/trans...</td>\n",
       "    </tr>\n",
       "    <tr>\n",
       "      <th>3</th>\n",
       "      <td>C18F412A-7B87-81A6-E053-6B04A8C0AD18</td>\n",
       "      <td>325000</td>\n",
       "      <td>2021-02-25</td>\n",
       "      <td>LU1 4AL</td>\n",
       "      <td>S</td>\n",
       "      <td>N</td>\n",
       "      <td>F</td>\n",
       "      <td>NaN</td>\n",
       "      <td>5</td>\n",
       "      <td>DUNSTABLE ROAD</td>\n",
       "      <td>CADDINGTON</td>\n",
       "      <td>LUTON</td>\n",
       "      <td>CENTRAL BEDFORDSHIRE</td>\n",
       "      <td>CENTRAL BEDFORDSHIRE</td>\n",
       "      <td>A</td>\n",
       "      <td>http://landregistry.data.gov.uk/data/ppi/trans...</td>\n",
       "    </tr>\n",
       "    <tr>\n",
       "      <th>4</th>\n",
       "      <td>CFC9085C-4795-9A70-E053-6B04A8C09D6A</td>\n",
       "      <td>470000</td>\n",
       "      <td>2021-06-25</td>\n",
       "      <td>LU1 4AL</td>\n",
       "      <td>D</td>\n",
       "      <td>N</td>\n",
       "      <td>F</td>\n",
       "      <td>NaN</td>\n",
       "      <td>29</td>\n",
       "      <td>DUNSTABLE ROAD</td>\n",
       "      <td>CADDINGTON</td>\n",
       "      <td>LUTON</td>\n",
       "      <td>CENTRAL BEDFORDSHIRE</td>\n",
       "      <td>CENTRAL BEDFORDSHIRE</td>\n",
       "      <td>A</td>\n",
       "      <td>http://landregistry.data.gov.uk/data/ppi/trans...</td>\n",
       "    </tr>\n",
       "  </tbody>\n",
       "</table>\n",
       "</div>"
      ],
      "text/plain": [
       "                              unique_id  price_paid   deed_date postcode  \\\n",
       "0  CFC9085C-4A0B-9A70-E053-6B04A8C09D6A      393000  2021-05-24  EN5 1JQ   \n",
       "1  CB0035E5-7E47-58AE-E053-6B04A8C091AF      740000  2021-04-27  LU1 4AD   \n",
       "2  D707E534-BFF1-0AD9-E053-6B04A8C067CC      270000  2021-06-30  LU1 4AF   \n",
       "3  C18F412A-7B87-81A6-E053-6B04A8C0AD18      325000  2021-02-25  LU1 4AL   \n",
       "4  CFC9085C-4795-9A70-E053-6B04A8C09D6A      470000  2021-06-25  LU1 4AL   \n",
       "\n",
       "  property_type new_build estate_type saon                 paon  \\\n",
       "0             F         N           L    1  LYONSDOWN COURT, 41   \n",
       "1             D         N           F  NaN     MANOR FARM HOUSE   \n",
       "2             T         N           F  NaN                   21   \n",
       "3             S         N           F  NaN                    5   \n",
       "4             D         N           F  NaN                   29   \n",
       "\n",
       "           street    locality    town              district  \\\n",
       "0  LYONSDOWN ROAD  NEW BARNET  BARNET  CENTRAL BEDFORDSHIRE   \n",
       "1      LUTON ROAD  CADDINGTON   LUTON  CENTRAL BEDFORDSHIRE   \n",
       "2      LUTON ROAD  CADDINGTON   LUTON  CENTRAL BEDFORDSHIRE   \n",
       "3  DUNSTABLE ROAD  CADDINGTON   LUTON  CENTRAL BEDFORDSHIRE   \n",
       "4  DUNSTABLE ROAD  CADDINGTON   LUTON  CENTRAL BEDFORDSHIRE   \n",
       "\n",
       "                 county transaction_category  \\\n",
       "0  CENTRAL BEDFORDSHIRE                    A   \n",
       "1  CENTRAL BEDFORDSHIRE                    A   \n",
       "2  CENTRAL BEDFORDSHIRE                    A   \n",
       "3  CENTRAL BEDFORDSHIRE                    A   \n",
       "4  CENTRAL BEDFORDSHIRE                    A   \n",
       "\n",
       "                                     linked_data_uri  \n",
       "0  http://landregistry.data.gov.uk/data/ppi/trans...  \n",
       "1  http://landregistry.data.gov.uk/data/ppi/trans...  \n",
       "2  http://landregistry.data.gov.uk/data/ppi/trans...  \n",
       "3  http://landregistry.data.gov.uk/data/ppi/trans...  \n",
       "4  http://landregistry.data.gov.uk/data/ppi/trans...  "
      ]
     },
     "execution_count": 3,
     "metadata": {},
     "output_type": "execute_result"
    }
   ],
   "source": [
    "eng_properties.head()"
   ]
  },
  {
   "cell_type": "code",
   "execution_count": 4,
   "id": "f23db64b",
   "metadata": {},
   "outputs": [
    {
     "data": {
      "text/plain": [
       "(669322, 16)"
      ]
     },
     "execution_count": 4,
     "metadata": {},
     "output_type": "execute_result"
    }
   ],
   "source": [
    "eng_properties.shape"
   ]
  },
  {
   "cell_type": "code",
   "execution_count": 5,
   "id": "31d8ace2",
   "metadata": {},
   "outputs": [
    {
     "data": {
      "text/html": [
       "<div>\n",
       "<style scoped>\n",
       "    .dataframe tbody tr th:only-of-type {\n",
       "        vertical-align: middle;\n",
       "    }\n",
       "\n",
       "    .dataframe tbody tr th {\n",
       "        vertical-align: top;\n",
       "    }\n",
       "\n",
       "    .dataframe thead th {\n",
       "        text-align: right;\n",
       "    }\n",
       "</style>\n",
       "<table border=\"1\" class=\"dataframe\">\n",
       "  <thead>\n",
       "    <tr style=\"text-align: right;\">\n",
       "      <th></th>\n",
       "      <th>pcd</th>\n",
       "      <th>pcd2</th>\n",
       "      <th>pcds</th>\n",
       "      <th>dointr</th>\n",
       "      <th>doterm</th>\n",
       "      <th>usertype</th>\n",
       "      <th>oseast1m</th>\n",
       "      <th>osnrth1m</th>\n",
       "      <th>osgrdind</th>\n",
       "      <th>oa11</th>\n",
       "      <th>...</th>\n",
       "      <th>ru11ind</th>\n",
       "      <th>oac11</th>\n",
       "      <th>lat</th>\n",
       "      <th>long</th>\n",
       "      <th>lep1</th>\n",
       "      <th>lep2</th>\n",
       "      <th>pfa</th>\n",
       "      <th>imd</th>\n",
       "      <th>calncv</th>\n",
       "      <th>stp</th>\n",
       "    </tr>\n",
       "  </thead>\n",
       "  <tbody>\n",
       "    <tr>\n",
       "      <th>0</th>\n",
       "      <td>AB1 0AA</td>\n",
       "      <td>AB1  0AA</td>\n",
       "      <td>AB1 0AA</td>\n",
       "      <td>198001</td>\n",
       "      <td>199606.0</td>\n",
       "      <td>0</td>\n",
       "      <td>385386.0</td>\n",
       "      <td>801193.0</td>\n",
       "      <td>1</td>\n",
       "      <td>S00090303</td>\n",
       "      <td>...</td>\n",
       "      <td>3.0</td>\n",
       "      <td>1C3</td>\n",
       "      <td>57.101474</td>\n",
       "      <td>-2.242851</td>\n",
       "      <td>S99999999</td>\n",
       "      <td>S99999999</td>\n",
       "      <td>S23000009</td>\n",
       "      <td>6715</td>\n",
       "      <td>S99999999</td>\n",
       "      <td>S99999999</td>\n",
       "    </tr>\n",
       "    <tr>\n",
       "      <th>1</th>\n",
       "      <td>AB1 0AB</td>\n",
       "      <td>AB1  0AB</td>\n",
       "      <td>AB1 0AB</td>\n",
       "      <td>198001</td>\n",
       "      <td>199606.0</td>\n",
       "      <td>0</td>\n",
       "      <td>385177.0</td>\n",
       "      <td>801314.0</td>\n",
       "      <td>1</td>\n",
       "      <td>S00090303</td>\n",
       "      <td>...</td>\n",
       "      <td>3.0</td>\n",
       "      <td>1C3</td>\n",
       "      <td>57.102554</td>\n",
       "      <td>-2.246308</td>\n",
       "      <td>S99999999</td>\n",
       "      <td>S99999999</td>\n",
       "      <td>S23000009</td>\n",
       "      <td>6715</td>\n",
       "      <td>S99999999</td>\n",
       "      <td>S99999999</td>\n",
       "    </tr>\n",
       "    <tr>\n",
       "      <th>2</th>\n",
       "      <td>AB1 0AD</td>\n",
       "      <td>AB1  0AD</td>\n",
       "      <td>AB1 0AD</td>\n",
       "      <td>198001</td>\n",
       "      <td>199606.0</td>\n",
       "      <td>0</td>\n",
       "      <td>385053.0</td>\n",
       "      <td>801092.0</td>\n",
       "      <td>1</td>\n",
       "      <td>S00090399</td>\n",
       "      <td>...</td>\n",
       "      <td>3.0</td>\n",
       "      <td>6A1</td>\n",
       "      <td>57.100556</td>\n",
       "      <td>-2.248342</td>\n",
       "      <td>S99999999</td>\n",
       "      <td>S99999999</td>\n",
       "      <td>S23000009</td>\n",
       "      <td>6715</td>\n",
       "      <td>S99999999</td>\n",
       "      <td>S99999999</td>\n",
       "    </tr>\n",
       "    <tr>\n",
       "      <th>3</th>\n",
       "      <td>AB1 0AE</td>\n",
       "      <td>AB1  0AE</td>\n",
       "      <td>AB1 0AE</td>\n",
       "      <td>199402</td>\n",
       "      <td>199606.0</td>\n",
       "      <td>0</td>\n",
       "      <td>384600.0</td>\n",
       "      <td>799300.0</td>\n",
       "      <td>8</td>\n",
       "      <td>S00091322</td>\n",
       "      <td>...</td>\n",
       "      <td>6.0</td>\n",
       "      <td>1A2</td>\n",
       "      <td>57.084444</td>\n",
       "      <td>-2.255708</td>\n",
       "      <td>S99999999</td>\n",
       "      <td>S99999999</td>\n",
       "      <td>S23000009</td>\n",
       "      <td>5069</td>\n",
       "      <td>S99999999</td>\n",
       "      <td>S99999999</td>\n",
       "    </tr>\n",
       "    <tr>\n",
       "      <th>4</th>\n",
       "      <td>AB1 0AF</td>\n",
       "      <td>AB1  0AF</td>\n",
       "      <td>AB1 0AF</td>\n",
       "      <td>199012</td>\n",
       "      <td>199207.0</td>\n",
       "      <td>1</td>\n",
       "      <td>384460.0</td>\n",
       "      <td>800660.0</td>\n",
       "      <td>8</td>\n",
       "      <td>S00090299</td>\n",
       "      <td>...</td>\n",
       "      <td>3.0</td>\n",
       "      <td>6A4</td>\n",
       "      <td>57.096656</td>\n",
       "      <td>-2.258102</td>\n",
       "      <td>S99999999</td>\n",
       "      <td>S99999999</td>\n",
       "      <td>S23000009</td>\n",
       "      <td>6253</td>\n",
       "      <td>S99999999</td>\n",
       "      <td>S99999999</td>\n",
       "    </tr>\n",
       "  </tbody>\n",
       "</table>\n",
       "<p>5 rows × 41 columns</p>\n",
       "</div>"
      ],
      "text/plain": [
       "       pcd      pcd2     pcds  dointr    doterm  usertype  oseast1m  osnrth1m  \\\n",
       "0  AB1 0AA  AB1  0AA  AB1 0AA  198001  199606.0         0  385386.0  801193.0   \n",
       "1  AB1 0AB  AB1  0AB  AB1 0AB  198001  199606.0         0  385177.0  801314.0   \n",
       "2  AB1 0AD  AB1  0AD  AB1 0AD  198001  199606.0         0  385053.0  801092.0   \n",
       "3  AB1 0AE  AB1  0AE  AB1 0AE  199402  199606.0         0  384600.0  799300.0   \n",
       "4  AB1 0AF  AB1  0AF  AB1 0AF  199012  199207.0         1  384460.0  800660.0   \n",
       "\n",
       "   osgrdind       oa11  ... ru11ind oac11        lat      long       lep1  \\\n",
       "0         1  S00090303  ...     3.0   1C3  57.101474 -2.242851  S99999999   \n",
       "1         1  S00090303  ...     3.0   1C3  57.102554 -2.246308  S99999999   \n",
       "2         1  S00090399  ...     3.0   6A1  57.100556 -2.248342  S99999999   \n",
       "3         8  S00091322  ...     6.0   1A2  57.084444 -2.255708  S99999999   \n",
       "4         8  S00090299  ...     3.0   6A4  57.096656 -2.258102  S99999999   \n",
       "\n",
       "        lep2        pfa   imd     calncv        stp  \n",
       "0  S99999999  S23000009  6715  S99999999  S99999999  \n",
       "1  S99999999  S23000009  6715  S99999999  S99999999  \n",
       "2  S99999999  S23000009  6715  S99999999  S99999999  \n",
       "3  S99999999  S23000009  5069  S99999999  S99999999  \n",
       "4  S99999999  S23000009  6253  S99999999  S99999999  \n",
       "\n",
       "[5 rows x 41 columns]"
      ]
     },
     "execution_count": 5,
     "metadata": {},
     "output_type": "execute_result"
    }
   ],
   "source": [
    "all_postcodes.head()"
   ]
  },
  {
   "cell_type": "code",
   "execution_count": 6,
   "id": "c29f8c0e",
   "metadata": {},
   "outputs": [
    {
     "data": {
      "text/html": [
       "<div>\n",
       "<style scoped>\n",
       "    .dataframe tbody tr th:only-of-type {\n",
       "        vertical-align: middle;\n",
       "    }\n",
       "\n",
       "    .dataframe tbody tr th {\n",
       "        vertical-align: top;\n",
       "    }\n",
       "\n",
       "    .dataframe thead th {\n",
       "        text-align: right;\n",
       "    }\n",
       "</style>\n",
       "<table border=\"1\" class=\"dataframe\">\n",
       "  <thead>\n",
       "    <tr style=\"text-align: right;\">\n",
       "      <th></th>\n",
       "      <th>LAD21CD</th>\n",
       "      <th>LAD21NM</th>\n",
       "      <th>LAD21NMW</th>\n",
       "    </tr>\n",
       "  </thead>\n",
       "  <tbody>\n",
       "    <tr>\n",
       "      <th>0</th>\n",
       "      <td>E06000001</td>\n",
       "      <td>Hartlepool</td>\n",
       "      <td>NaN</td>\n",
       "    </tr>\n",
       "    <tr>\n",
       "      <th>1</th>\n",
       "      <td>E06000002</td>\n",
       "      <td>Middlesbrough</td>\n",
       "      <td>NaN</td>\n",
       "    </tr>\n",
       "    <tr>\n",
       "      <th>2</th>\n",
       "      <td>E06000003</td>\n",
       "      <td>Redcar and Cleveland</td>\n",
       "      <td>NaN</td>\n",
       "    </tr>\n",
       "    <tr>\n",
       "      <th>3</th>\n",
       "      <td>E06000004</td>\n",
       "      <td>Stockton-on-Tees</td>\n",
       "      <td>NaN</td>\n",
       "    </tr>\n",
       "    <tr>\n",
       "      <th>4</th>\n",
       "      <td>E06000005</td>\n",
       "      <td>Darlington</td>\n",
       "      <td>NaN</td>\n",
       "    </tr>\n",
       "  </tbody>\n",
       "</table>\n",
       "</div>"
      ],
      "text/plain": [
       "     LAD21CD               LAD21NM LAD21NMW\n",
       "0  E06000001            Hartlepool      NaN\n",
       "1  E06000002         Middlesbrough      NaN\n",
       "2  E06000003  Redcar and Cleveland      NaN\n",
       "3  E06000004      Stockton-on-Tees      NaN\n",
       "4  E06000005            Darlington      NaN"
      ]
     },
     "execution_count": 6,
     "metadata": {},
     "output_type": "execute_result"
    }
   ],
   "source": [
    "all_LA.head()"
   ]
  },
  {
   "cell_type": "code",
   "execution_count": 7,
   "id": "9ed70023",
   "metadata": {},
   "outputs": [
    {
     "data": {
      "text/plain": [
       "False"
      ]
     },
     "execution_count": 7,
     "metadata": {},
     "output_type": "execute_result"
    }
   ],
   "source": [
    "#Check if unique_id is really unique\n",
    "pd.Series(eng_properties['unique_id']).is_unique"
   ]
  },
  {
   "cell_type": "code",
   "execution_count": 8,
   "id": "03f330e4",
   "metadata": {
    "scrolled": false
   },
   "outputs": [
    {
     "name": "stdout",
     "output_type": "stream",
     "text": [
      "Empty DataFrame\n",
      "Columns: [unique_id, price_paid, deed_date, postcode, property_type, new_build, estate_type, saon, paon, street, locality, town, district, county, transaction_category, linked_data_uri]\n",
      "Index: []\n"
     ]
    }
   ],
   "source": [
    "#Check if any duplicated records\n",
    "duplicateRowsDF = eng_properties[eng_properties.duplicated(keep=False)]\n",
    "print(duplicateRowsDF)"
   ]
  },
  {
   "cell_type": "markdown",
   "id": "252a4655",
   "metadata": {},
   "source": [
    "### Funny that the unique_id isn't unique, but there is no duplicated records. Check further to see how unique_id is duplicated."
   ]
  },
  {
   "cell_type": "code",
   "execution_count": 9,
   "id": "4c4669f7",
   "metadata": {},
   "outputs": [
    {
     "name": "stdout",
     "output_type": "stream",
     "text": [
      "                                   unique_id  price_paid   deed_date  \\\n",
      "93169   C6209F5F-0C1C-295E-E053-6C04A8C0DDCC     1425000  2021-03-19   \n",
      "93170   C6209F5F-0C1C-295E-E053-6C04A8C0DDCC     1425000  2021-03-19   \n",
      "149652  D22473F5-4F9C-7B40-E053-6C04A8C0A630      105000  2021-09-09   \n",
      "149673  D22473F5-4F9C-7B40-E053-6C04A8C0A630      105000  2021-09-09   \n",
      "258583  D22473F5-A423-7B40-E053-6C04A8C0A630      123500  2021-07-27   \n",
      "258590  D22473F5-A423-7B40-E053-6C04A8C0A630      123500  2021-07-27   \n",
      "467417  D22473F5-DAE4-7B40-E053-6C04A8C0A630      565000  2021-08-31   \n",
      "467418  D22473F5-DAE4-7B40-E053-6C04A8C0A630      565000  2021-08-31   \n",
      "297084  D22473F6-7F49-7B40-E053-6C04A8C0A630     3075000  2021-08-31   \n",
      "297085  D22473F6-7F49-7B40-E053-6C04A8C0A630     3075000  2021-08-31   \n",
      "454137  D4D42646-0B4A-27F6-E053-6C04A8C0A572      713500  2021-12-03   \n",
      "454138  D4D42646-0B4A-27F6-E053-6C04A8C0A572      713500  2021-12-03   \n",
      "645426  D4D42646-DFE8-27F6-E053-6C04A8C0A572       63900  2021-11-26   \n",
      "645520  D4D42646-DFE8-27F6-E053-6C04A8C0A572       63900  2021-11-26   \n",
      "645448  D4D42646-DFF2-27F6-E053-6C04A8C0A572       64800  2021-11-26   \n",
      "645512  D4D42646-DFF2-27F6-E053-6C04A8C0A572       64800  2021-11-26   \n",
      "645430  D4D42646-DFFD-27F6-E053-6C04A8C0A572       47695  2021-11-26   \n",
      "645511  D4D42646-DFFD-27F6-E053-6C04A8C0A572       47695  2021-11-26   \n",
      "645490  D4D42646-DFFF-27F6-E053-6C04A8C0A572       67495  2021-11-26   \n",
      "645514  D4D42646-DFFF-27F6-E053-6C04A8C0A572       67495  2021-11-26   \n",
      "645519  D4D42646-E008-27F6-E053-6C04A8C0A572       47695  2021-11-26   \n",
      "645424  D4D42646-E008-27F6-E053-6C04A8C0A572       47695  2021-11-26   \n",
      "645509  D4D42646-E00A-27F6-E053-6C04A8C0A572       47695  2021-11-26   \n",
      "645515  D4D42646-E00A-27F6-E053-6C04A8C0A572       47695  2021-11-26   \n",
      "645463  D4D42646-E00C-27F6-E053-6C04A8C0A572       47695  2021-11-26   \n",
      "645513  D4D42646-E00C-27F6-E053-6C04A8C0A572       47695  2021-11-26   \n",
      "\n",
      "        postcode property_type new_build estate_type                 saon  \\\n",
      "93169    TQ7 3QB             D         N           F                  NaN   \n",
      "93170    TQ7 3QB             D         N           F                  NaN   \n",
      "149652  GL51 8NJ             F         N           L  FLAT S1 QUEENS GATE   \n",
      "149673  GL51 8QA             F         N           L               FLAT 6   \n",
      "258583   M32 8AE             F         Y           L          APARTMENT 9   \n",
      "258590   M32 8AE             F         Y           L          APARTMENT 9   \n",
      "467417  OX11 0DX             D         N           F                  NaN   \n",
      "467418  OX11 0EA             D         N           F                  NaN   \n",
      "297084  SO31 7PT             O         N           F                  NaN   \n",
      "297085  SO31 7PT             O         N           F                  NaN   \n",
      "454137  NE66 5RA             D         N           F                  NaN   \n",
      "454138  NE66 5RA             D         N           F                  NaN   \n",
      "645426   LS7 1AW             F         N           L             FLAT 220   \n",
      "645520   LS7 1NJ             F         N           L             UNIT 220   \n",
      "645448   LS7 1AW             O         N           L             FLAT 321   \n",
      "645512   LS7 1AW             O         N           L             UNIT 321   \n",
      "645430   LS7 1AW             F         N           L             FLAT 302   \n",
      "645511   LS7 1AW             F         N           L             UNIT 302   \n",
      "645490   LS7 1AW             O         N           L             FLAT 708   \n",
      "645514   LS7 1AW             O         N           L             UNIT 708   \n",
      "645519   LS7 1NJ             F         N           L             UNIT 217   \n",
      "645424   LS7 1AW             F         N           L             FLAT 217   \n",
      "645509   LS7 1AW             F         N           L             FLAT 810   \n",
      "645515   LS7 1AW             F         N           L             UNIT 810   \n",
      "645463   LS7 1AW             F         N           L             FLAT 522   \n",
      "645513   LS7 1AW             F         N           L             UNIT 522   \n",
      "\n",
      "                    paon           street         locality         town  \\\n",
      "93169         SOUTHFIELD     LOWER STREET   WEST ALVINGTON  KINGSBRIDGE   \n",
      "93170       THE BUNGALOW     LOWER STREET   WEST ALVINGTON  KINGSBRIDGE   \n",
      "149652               237  GLOUCESTER ROAD              NaN   CHELTENHAM   \n",
      "149673       QUEENS GATE  GLOUCESTER ROAD              NaN   CHELTENHAM   \n",
      "258583      THE BANK, 20      KING STREET        STRETFORD   MANCHESTER   \n",
      "258590               20A      KING STREET        STRETFORD   MANCHESTER   \n",
      "467417       THE COTTAGE         TOWNSEND          HARWELL       DIDCOT   \n",
      "467418       THE COTTAGE      BARROW LANE          HARWELL       DIDCOT   \n",
      "297084  COLDEAST MANSION   COLDEAST DRIVE  SARISBURY GREEN  SOUTHAMPTON   \n",
      "297085       THE MANSION   COLDEAST DRIVE  SARISBURY GREEN  SOUTHAMPTON   \n",
      "454137      CHATTON MILL              NaN          CHATTON      ALNWICK   \n",
      "454138        MILL HOUSE              NaN          CHATTON      ALNWICK   \n",
      "645426     ASQUITH HOUSE      SERVIA ROAD              NaN        LEEDS   \n",
      "645520     ASQUITH HOUSE      SERVIA ROAD              NaN        LEEDS   \n",
      "645448     ASQUITH HOUSE      SERVIA ROAD              NaN        LEEDS   \n",
      "645512     ASQUITH HOUSE      SERVIA ROAD              NaN        LEEDS   \n",
      "645430     ASQUITH HOUSE      SERVIA ROAD              NaN        LEEDS   \n",
      "645511     ASQUITH HOUSE      SERVIA ROAD              NaN        LEEDS   \n",
      "645490     ASQUITH HOUSE      SERVIA ROAD              NaN        LEEDS   \n",
      "645514     ASQUITH HOUSE      SERVIA ROAD              NaN        LEEDS   \n",
      "645519     ASQUITH HOUSE      SERVIA ROAD              NaN        LEEDS   \n",
      "645424     ASQUITH HOUSE      SERVIA ROAD              NaN        LEEDS   \n",
      "645509     ASQUITH HOUSE      SERVIA ROAD              NaN        LEEDS   \n",
      "645515     ASQUITH HOUSE      SERVIA ROAD              NaN        LEEDS   \n",
      "645463     ASQUITH HOUSE      SERVIA ROAD              NaN        LEEDS   \n",
      "645513     ASQUITH HOUSE      SERVIA ROAD              NaN        LEEDS   \n",
      "\n",
      "                   district              county transaction_category  \\\n",
      "93169            SOUTH HAMS               DEVON                    A   \n",
      "93170            SOUTH HAMS               DEVON                    A   \n",
      "149652           CHELTENHAM     GLOUCESTERSHIRE                    A   \n",
      "149673           CHELTENHAM     GLOUCESTERSHIRE                    A   \n",
      "258583             TRAFFORD  GREATER MANCHESTER                    A   \n",
      "258590             TRAFFORD  GREATER MANCHESTER                    A   \n",
      "467417  VALE OF WHITE HORSE         OXFORDSHIRE                    A   \n",
      "467418  VALE OF WHITE HORSE         OXFORDSHIRE                    A   \n",
      "297084              FAREHAM           HAMPSHIRE                    B   \n",
      "297085              FAREHAM           HAMPSHIRE                    B   \n",
      "454137       NORTHUMBERLAND      NORTHUMBERLAND                    A   \n",
      "454138       NORTHUMBERLAND      NORTHUMBERLAND                    A   \n",
      "645426                LEEDS      WEST YORKSHIRE                    B   \n",
      "645520                LEEDS      WEST YORKSHIRE                    B   \n",
      "645448                LEEDS      WEST YORKSHIRE                    B   \n",
      "645512                LEEDS      WEST YORKSHIRE                    B   \n",
      "645430                LEEDS      WEST YORKSHIRE                    B   \n",
      "645511                LEEDS      WEST YORKSHIRE                    B   \n",
      "645490                LEEDS      WEST YORKSHIRE                    B   \n",
      "645514                LEEDS      WEST YORKSHIRE                    B   \n",
      "645519                LEEDS      WEST YORKSHIRE                    B   \n",
      "645424                LEEDS      WEST YORKSHIRE                    B   \n",
      "645509                LEEDS      WEST YORKSHIRE                    B   \n",
      "645515                LEEDS      WEST YORKSHIRE                    B   \n",
      "645463                LEEDS      WEST YORKSHIRE                    B   \n",
      "645513                LEEDS      WEST YORKSHIRE                    B   \n",
      "\n",
      "                                          linked_data_uri  \n",
      "93169   http://landregistry.data.gov.uk/data/ppi/trans...  \n",
      "93170   http://landregistry.data.gov.uk/data/ppi/trans...  \n",
      "149652  http://landregistry.data.gov.uk/data/ppi/trans...  \n",
      "149673  http://landregistry.data.gov.uk/data/ppi/trans...  \n",
      "258583  http://landregistry.data.gov.uk/data/ppi/trans...  \n",
      "258590  http://landregistry.data.gov.uk/data/ppi/trans...  \n",
      "467417  http://landregistry.data.gov.uk/data/ppi/trans...  \n",
      "467418  http://landregistry.data.gov.uk/data/ppi/trans...  \n",
      "297084  http://landregistry.data.gov.uk/data/ppi/trans...  \n",
      "297085  http://landregistry.data.gov.uk/data/ppi/trans...  \n",
      "454137  http://landregistry.data.gov.uk/data/ppi/trans...  \n",
      "454138  http://landregistry.data.gov.uk/data/ppi/trans...  \n",
      "645426  http://landregistry.data.gov.uk/data/ppi/trans...  \n",
      "645520  http://landregistry.data.gov.uk/data/ppi/trans...  \n",
      "645448  http://landregistry.data.gov.uk/data/ppi/trans...  \n",
      "645512  http://landregistry.data.gov.uk/data/ppi/trans...  \n",
      "645430  http://landregistry.data.gov.uk/data/ppi/trans...  \n",
      "645511  http://landregistry.data.gov.uk/data/ppi/trans...  \n",
      "645490  http://landregistry.data.gov.uk/data/ppi/trans...  \n",
      "645514  http://landregistry.data.gov.uk/data/ppi/trans...  \n",
      "645519  http://landregistry.data.gov.uk/data/ppi/trans...  \n",
      "645424  http://landregistry.data.gov.uk/data/ppi/trans...  \n",
      "645509  http://landregistry.data.gov.uk/data/ppi/trans...  \n",
      "645515  http://landregistry.data.gov.uk/data/ppi/trans...  \n",
      "645463  http://landregistry.data.gov.uk/data/ppi/trans...  \n",
      "645513  http://landregistry.data.gov.uk/data/ppi/trans...  \n"
     ]
    }
   ],
   "source": [
    "duplicateKeysDF = eng_properties[eng_properties['unique_id'].duplicated(keep=False)]\n",
    "print(duplicateKeysDF.sort_values(by=['unique_id']))"
   ]
  },
  {
   "cell_type": "markdown",
   "id": "971f2113",
   "metadata": {},
   "source": [
    "### Records with duplicated unique_id have difference on detailed address only, which would not have impact on the following analysis. We'll keep the first record and remove the duplicated ones after that."
   ]
  },
  {
   "cell_type": "code",
   "execution_count": 10,
   "id": "772371bb",
   "metadata": {},
   "outputs": [],
   "source": [
    "#remove duplicated records\n",
    "eng_properties_unique = eng_properties.drop_duplicates(subset=['unique_id'], keep='first')"
   ]
  },
  {
   "cell_type": "code",
   "execution_count": 11,
   "id": "fdabc502",
   "metadata": {},
   "outputs": [
    {
     "data": {
      "text/plain": [
       "(669309, 16)"
      ]
     },
     "execution_count": 11,
     "metadata": {},
     "output_type": "execute_result"
    }
   ],
   "source": [
    "#get the shape of eng_properties_unique\n",
    "eng_properties_unique.shape"
   ]
  },
  {
   "cell_type": "code",
   "execution_count": 12,
   "id": "5e9780e1",
   "metadata": {},
   "outputs": [
    {
     "data": {
      "text/plain": [
       "True"
      ]
     },
     "execution_count": 12,
     "metadata": {},
     "output_type": "execute_result"
    }
   ],
   "source": [
    "#Check if unique_id is really unique\n",
    "pd.Series(eng_properties_unique['unique_id']).is_unique"
   ]
  },
  {
   "cell_type": "markdown",
   "id": "3fd4116d",
   "metadata": {},
   "source": [
    "### Now all records are unique and we will check if there are any columns with null values."
   ]
  },
  {
   "cell_type": "code",
   "execution_count": 13,
   "id": "3bd43934",
   "metadata": {},
   "outputs": [
    {
     "data": {
      "text/plain": [
       "['postcode', 'saon', 'street', 'locality']"
      ]
     },
     "execution_count": 13,
     "metadata": {},
     "output_type": "execute_result"
    }
   ],
   "source": [
    "#Get columns names with null values\n",
    "eng_properties_unique.columns[eng_properties_unique.isna().any()].tolist()"
   ]
  },
  {
   "cell_type": "code",
   "execution_count": 43,
   "id": "d8f68b2f",
   "metadata": {
    "scrolled": true
   },
   "outputs": [
    {
     "data": {
      "text/plain": [
       "(2084, 16)"
      ]
     },
     "execution_count": 43,
     "metadata": {},
     "output_type": "execute_result"
    }
   ],
   "source": [
    "#Get number of records without postcode\n",
    "eng_properties_unique[eng_properties_unique['postcode'].isna()].shape"
   ]
  },
  {
   "cell_type": "markdown",
   "id": "8fc2fb47",
   "metadata": {},
   "source": [
    "### We need postcode to get the local authority name, but this can also be got by district. So we'll simply ignore the situation first."
   ]
  },
  {
   "cell_type": "code",
   "execution_count": 14,
   "id": "bb873e68",
   "metadata": {},
   "outputs": [],
   "source": [
    "#add a new columns postcode_outward and postcode_inward by spliting postcode\n",
    "eng_properties_final = eng_properties_unique.copy()\n",
    "eng_properties_final[['postcode_outward', 'postcode_inward']] = eng_properties_unique['postcode'].str.split(' ', expand=True)"
   ]
  },
  {
   "cell_type": "markdown",
   "id": "56d91d9e",
   "metadata": {},
   "source": [
    "### We've finished cleaning and transforming the housing data, and will proceed to join eng_properties_final, all_postcodes and all_LA. \n",
    "### eng_properties_final and all_postcodes will be joined by postcode, then they'll be joined with all_LA with laua."
   ]
  },
  {
   "cell_type": "code",
   "execution_count": 15,
   "id": "6307d30b",
   "metadata": {},
   "outputs": [],
   "source": [
    "#copy only columns we need from all_postcodes\n",
    "all_postcodes_trimmed = all_postcodes[['doterm','pcd','pcd2','pcds','laua','lat','long']].copy()"
   ]
  },
  {
   "cell_type": "code",
   "execution_count": 16,
   "id": "ced7f80c",
   "metadata": {},
   "outputs": [],
   "source": [
    "#join eng_properties_final and all_postcodes\n",
    "merge1 = pd.merge(eng_properties_final, all_postcodes_trimmed,\n",
    "                  left_on='postcode',\n",
    "                  right_on='pcd',\n",
    "                  how='inner')\n",
    "merge2 = pd.merge(eng_properties_final, all_postcodes_trimmed,\n",
    "                  left_on='postcode',\n",
    "                  right_on='pcd2',\n",
    "                  how='inner')\n",
    "\n",
    "#left join is used to get records with undefined postcodes\n",
    "merge3 = pd.merge(eng_properties_final, all_postcodes_trimmed,\n",
    "                  left_on='postcode',\n",
    "                  right_on='pcds',\n",
    "                  how='left')\n",
    "\n",
    "prop_post = pd.concat([merge1,merge2,merge3])"
   ]
  },
  {
   "cell_type": "code",
   "execution_count": 17,
   "id": "a89f0bbb",
   "metadata": {},
   "outputs": [],
   "source": [
    "#remove duplicated records \n",
    "prop_post = prop_post.drop_duplicates(subset=['unique_id'], keep='first')"
   ]
  },
  {
   "cell_type": "markdown",
   "id": "fee21796",
   "metadata": {},
   "source": [
    "### Verify if we still have the same number of records before merging."
   ]
  },
  {
   "cell_type": "code",
   "execution_count": 18,
   "id": "49126626",
   "metadata": {},
   "outputs": [
    {
     "data": {
      "text/plain": [
       "(669309, 25)"
      ]
     },
     "execution_count": 18,
     "metadata": {},
     "output_type": "execute_result"
    }
   ],
   "source": [
    "#get shape of prop_post which is a result of joining eng_properties and all_postcodes\n",
    "prop_post.shape"
   ]
  },
  {
   "cell_type": "code",
   "execution_count": 19,
   "id": "fcbfd2a4",
   "metadata": {},
   "outputs": [],
   "source": [
    "#join prop_post and all_LA\n",
    "all_records = pd.merge(prop_post, all_LA,\n",
    "                  left_on='laua',\n",
    "                  right_on='LAD21CD',\n",
    "                  how='left')"
   ]
  },
  {
   "cell_type": "markdown",
   "id": "e3fbd4c3",
   "metadata": {},
   "source": [
    "### As mentioned above, some postcodes are absent in the properties records. We'll have to get the local authority codes and names by districts. First we'll get a list records with null laua and then verify if we can use districts as local authority names instead."
   ]
  },
  {
   "cell_type": "code",
   "execution_count": 20,
   "id": "edcfb614",
   "metadata": {
    "scrolled": true
   },
   "outputs": [
    {
     "data": {
      "text/html": [
       "<div>\n",
       "<style scoped>\n",
       "    .dataframe tbody tr th:only-of-type {\n",
       "        vertical-align: middle;\n",
       "    }\n",
       "\n",
       "    .dataframe tbody tr th {\n",
       "        vertical-align: top;\n",
       "    }\n",
       "\n",
       "    .dataframe thead th {\n",
       "        text-align: right;\n",
       "    }\n",
       "</style>\n",
       "<table border=\"1\" class=\"dataframe\">\n",
       "  <thead>\n",
       "    <tr style=\"text-align: right;\">\n",
       "      <th></th>\n",
       "      <th>unique_id</th>\n",
       "      <th>price_paid</th>\n",
       "      <th>deed_date</th>\n",
       "      <th>postcode</th>\n",
       "      <th>property_type</th>\n",
       "      <th>new_build</th>\n",
       "      <th>estate_type</th>\n",
       "      <th>saon</th>\n",
       "      <th>paon</th>\n",
       "      <th>street</th>\n",
       "      <th>...</th>\n",
       "      <th>doterm</th>\n",
       "      <th>pcd</th>\n",
       "      <th>pcd2</th>\n",
       "      <th>pcds</th>\n",
       "      <th>laua</th>\n",
       "      <th>lat</th>\n",
       "      <th>long</th>\n",
       "      <th>LAD21CD</th>\n",
       "      <th>LAD21NM</th>\n",
       "      <th>LAD21NMW</th>\n",
       "    </tr>\n",
       "  </thead>\n",
       "  <tbody>\n",
       "    <tr>\n",
       "      <th>647174</th>\n",
       "      <td>BEF7EBBF-92D8-7A76-E053-6B04A8C092F7</td>\n",
       "      <td>451000</td>\n",
       "      <td>2021-01-29</td>\n",
       "      <td>NaN</td>\n",
       "      <td>O</td>\n",
       "      <td>N</td>\n",
       "      <td>F</td>\n",
       "      <td>PLOTS 56-64, PHASE 2</td>\n",
       "      <td>WHITE HORSE FIELD</td>\n",
       "      <td>HIGH STREET</td>\n",
       "      <td>...</td>\n",
       "      <td>NaN</td>\n",
       "      <td>NaN</td>\n",
       "      <td>NaN</td>\n",
       "      <td>NaN</td>\n",
       "      <td>NaN</td>\n",
       "      <td>NaN</td>\n",
       "      <td>NaN</td>\n",
       "      <td>NaN</td>\n",
       "      <td>CENTRAL BEDFORDSHIRE</td>\n",
       "      <td>NaN</td>\n",
       "    </tr>\n",
       "    <tr>\n",
       "      <th>647175</th>\n",
       "      <td>CB0035E6-7470-58AE-E053-6B04A8C091AF</td>\n",
       "      <td>7800</td>\n",
       "      <td>2021-03-08</td>\n",
       "      <td>NaN</td>\n",
       "      <td>O</td>\n",
       "      <td>N</td>\n",
       "      <td>F</td>\n",
       "      <td>NaN</td>\n",
       "      <td>PLOT 29</td>\n",
       "      <td>GREAT LANE</td>\n",
       "      <td>...</td>\n",
       "      <td>NaN</td>\n",
       "      <td>NaN</td>\n",
       "      <td>NaN</td>\n",
       "      <td>NaN</td>\n",
       "      <td>NaN</td>\n",
       "      <td>NaN</td>\n",
       "      <td>NaN</td>\n",
       "      <td>NaN</td>\n",
       "      <td>CENTRAL BEDFORDSHIRE</td>\n",
       "      <td>NaN</td>\n",
       "    </tr>\n",
       "    <tr>\n",
       "      <th>647176</th>\n",
       "      <td>D22473F6-6E1F-7B40-E053-6C04A8C0A630</td>\n",
       "      <td>7800</td>\n",
       "      <td>2021-08-20</td>\n",
       "      <td>NaN</td>\n",
       "      <td>O</td>\n",
       "      <td>N</td>\n",
       "      <td>F</td>\n",
       "      <td>NaN</td>\n",
       "      <td>PLOT 41</td>\n",
       "      <td>GREAT LANE</td>\n",
       "      <td>...</td>\n",
       "      <td>NaN</td>\n",
       "      <td>NaN</td>\n",
       "      <td>NaN</td>\n",
       "      <td>NaN</td>\n",
       "      <td>NaN</td>\n",
       "      <td>NaN</td>\n",
       "      <td>NaN</td>\n",
       "      <td>NaN</td>\n",
       "      <td>CENTRAL BEDFORDSHIRE</td>\n",
       "      <td>NaN</td>\n",
       "    </tr>\n",
       "    <tr>\n",
       "      <th>647177</th>\n",
       "      <td>D707E536-6047-0AD9-E053-6B04A8C067CC</td>\n",
       "      <td>7500</td>\n",
       "      <td>2021-08-27</td>\n",
       "      <td>NaN</td>\n",
       "      <td>O</td>\n",
       "      <td>N</td>\n",
       "      <td>F</td>\n",
       "      <td>NaN</td>\n",
       "      <td>PLOT 46</td>\n",
       "      <td>GREAT LANE</td>\n",
       "      <td>...</td>\n",
       "      <td>NaN</td>\n",
       "      <td>NaN</td>\n",
       "      <td>NaN</td>\n",
       "      <td>NaN</td>\n",
       "      <td>NaN</td>\n",
       "      <td>NaN</td>\n",
       "      <td>NaN</td>\n",
       "      <td>NaN</td>\n",
       "      <td>CENTRAL BEDFORDSHIRE</td>\n",
       "      <td>NaN</td>\n",
       "    </tr>\n",
       "    <tr>\n",
       "      <th>647178</th>\n",
       "      <td>D707E536-6048-0AD9-E053-6B04A8C067CC</td>\n",
       "      <td>7500</td>\n",
       "      <td>2021-08-27</td>\n",
       "      <td>NaN</td>\n",
       "      <td>O</td>\n",
       "      <td>N</td>\n",
       "      <td>F</td>\n",
       "      <td>NaN</td>\n",
       "      <td>PLOT 48</td>\n",
       "      <td>GREAT LANE</td>\n",
       "      <td>...</td>\n",
       "      <td>NaN</td>\n",
       "      <td>NaN</td>\n",
       "      <td>NaN</td>\n",
       "      <td>NaN</td>\n",
       "      <td>NaN</td>\n",
       "      <td>NaN</td>\n",
       "      <td>NaN</td>\n",
       "      <td>NaN</td>\n",
       "      <td>CENTRAL BEDFORDSHIRE</td>\n",
       "      <td>NaN</td>\n",
       "    </tr>\n",
       "    <tr>\n",
       "      <th>...</th>\n",
       "      <td>...</td>\n",
       "      <td>...</td>\n",
       "      <td>...</td>\n",
       "      <td>...</td>\n",
       "      <td>...</td>\n",
       "      <td>...</td>\n",
       "      <td>...</td>\n",
       "      <td>...</td>\n",
       "      <td>...</td>\n",
       "      <td>...</td>\n",
       "      <td>...</td>\n",
       "      <td>...</td>\n",
       "      <td>...</td>\n",
       "      <td>...</td>\n",
       "      <td>...</td>\n",
       "      <td>...</td>\n",
       "      <td>...</td>\n",
       "      <td>...</td>\n",
       "      <td>...</td>\n",
       "      <td>...</td>\n",
       "      <td>...</td>\n",
       "    </tr>\n",
       "    <tr>\n",
       "      <th>669304</th>\n",
       "      <td>C18F412B-BBA0-81A6-E053-6B04A8C0AD18</td>\n",
       "      <td>6588845</td>\n",
       "      <td>2021-03-26</td>\n",
       "      <td>NaN</td>\n",
       "      <td>O</td>\n",
       "      <td>N</td>\n",
       "      <td>F</td>\n",
       "      <td>NaN</td>\n",
       "      <td>VICTORIA SPORTS GROUND</td>\n",
       "      <td>SPENNELLS VALLEY ROAD</td>\n",
       "      <td>...</td>\n",
       "      <td>NaN</td>\n",
       "      <td>NaN</td>\n",
       "      <td>NaN</td>\n",
       "      <td>NaN</td>\n",
       "      <td>NaN</td>\n",
       "      <td>NaN</td>\n",
       "      <td>NaN</td>\n",
       "      <td>NaN</td>\n",
       "      <td>WYRE FOREST</td>\n",
       "      <td>NaN</td>\n",
       "    </tr>\n",
       "    <tr>\n",
       "      <th>669305</th>\n",
       "      <td>C3C3F9B6-C2F8-362B-E053-6B04A8C03ACC</td>\n",
       "      <td>302411</td>\n",
       "      <td>2021-04-01</td>\n",
       "      <td>NaN</td>\n",
       "      <td>O</td>\n",
       "      <td>N</td>\n",
       "      <td>L</td>\n",
       "      <td>PLOTS 347-352</td>\n",
       "      <td>LEA CASTLE HOSPITAL DEVELOPMENT</td>\n",
       "      <td>NaN</td>\n",
       "      <td>...</td>\n",
       "      <td>NaN</td>\n",
       "      <td>NaN</td>\n",
       "      <td>NaN</td>\n",
       "      <td>NaN</td>\n",
       "      <td>NaN</td>\n",
       "      <td>NaN</td>\n",
       "      <td>NaN</td>\n",
       "      <td>NaN</td>\n",
       "      <td>WYRE FOREST</td>\n",
       "      <td>NaN</td>\n",
       "    </tr>\n",
       "    <tr>\n",
       "      <th>669306</th>\n",
       "      <td>C8A3A577-06F0-0425-E053-6C04A8C0947B</td>\n",
       "      <td>229334</td>\n",
       "      <td>2021-05-13</td>\n",
       "      <td>NaN</td>\n",
       "      <td>O</td>\n",
       "      <td>N</td>\n",
       "      <td>L</td>\n",
       "      <td>PLOTS 509-512, 526 AND 538</td>\n",
       "      <td>LEA CASTLE HOSPITAL DEVELOPMENT</td>\n",
       "      <td>NaN</td>\n",
       "      <td>...</td>\n",
       "      <td>NaN</td>\n",
       "      <td>NaN</td>\n",
       "      <td>NaN</td>\n",
       "      <td>NaN</td>\n",
       "      <td>NaN</td>\n",
       "      <td>NaN</td>\n",
       "      <td>NaN</td>\n",
       "      <td>NaN</td>\n",
       "      <td>WYRE FOREST</td>\n",
       "      <td>NaN</td>\n",
       "    </tr>\n",
       "    <tr>\n",
       "      <th>669307</th>\n",
       "      <td>C3C3F9B6-C2F9-362B-E053-6B04A8C03ACC</td>\n",
       "      <td>237477</td>\n",
       "      <td>2021-04-23</td>\n",
       "      <td>NaN</td>\n",
       "      <td>O</td>\n",
       "      <td>N</td>\n",
       "      <td>L</td>\n",
       "      <td>PLOTS 514-520</td>\n",
       "      <td>LEA CASTLE HOSPITAL DEVELOPMENT</td>\n",
       "      <td>NaN</td>\n",
       "      <td>...</td>\n",
       "      <td>NaN</td>\n",
       "      <td>NaN</td>\n",
       "      <td>NaN</td>\n",
       "      <td>NaN</td>\n",
       "      <td>NaN</td>\n",
       "      <td>NaN</td>\n",
       "      <td>NaN</td>\n",
       "      <td>NaN</td>\n",
       "      <td>WYRE FOREST</td>\n",
       "      <td>NaN</td>\n",
       "    </tr>\n",
       "    <tr>\n",
       "      <th>669308</th>\n",
       "      <td>C3C3F9B6-C2F7-362B-E053-6B04A8C03ACC</td>\n",
       "      <td>302411</td>\n",
       "      <td>2021-04-01</td>\n",
       "      <td>NaN</td>\n",
       "      <td>O</td>\n",
       "      <td>N</td>\n",
       "      <td>L</td>\n",
       "      <td>PLOTS 563-568, 571 AND 572</td>\n",
       "      <td>LEA CASTLE HOSPITAL DEVELOPMENT</td>\n",
       "      <td>NaN</td>\n",
       "      <td>...</td>\n",
       "      <td>NaN</td>\n",
       "      <td>NaN</td>\n",
       "      <td>NaN</td>\n",
       "      <td>NaN</td>\n",
       "      <td>NaN</td>\n",
       "      <td>NaN</td>\n",
       "      <td>NaN</td>\n",
       "      <td>NaN</td>\n",
       "      <td>WYRE FOREST</td>\n",
       "      <td>NaN</td>\n",
       "    </tr>\n",
       "  </tbody>\n",
       "</table>\n",
       "<p>2109 rows × 28 columns</p>\n",
       "</div>"
      ],
      "text/plain": [
       "                                   unique_id  price_paid   deed_date postcode  \\\n",
       "647174  BEF7EBBF-92D8-7A76-E053-6B04A8C092F7      451000  2021-01-29      NaN   \n",
       "647175  CB0035E6-7470-58AE-E053-6B04A8C091AF        7800  2021-03-08      NaN   \n",
       "647176  D22473F6-6E1F-7B40-E053-6C04A8C0A630        7800  2021-08-20      NaN   \n",
       "647177  D707E536-6047-0AD9-E053-6B04A8C067CC        7500  2021-08-27      NaN   \n",
       "647178  D707E536-6048-0AD9-E053-6B04A8C067CC        7500  2021-08-27      NaN   \n",
       "...                                      ...         ...         ...      ...   \n",
       "669304  C18F412B-BBA0-81A6-E053-6B04A8C0AD18     6588845  2021-03-26      NaN   \n",
       "669305  C3C3F9B6-C2F8-362B-E053-6B04A8C03ACC      302411  2021-04-01      NaN   \n",
       "669306  C8A3A577-06F0-0425-E053-6C04A8C0947B      229334  2021-05-13      NaN   \n",
       "669307  C3C3F9B6-C2F9-362B-E053-6B04A8C03ACC      237477  2021-04-23      NaN   \n",
       "669308  C3C3F9B6-C2F7-362B-E053-6B04A8C03ACC      302411  2021-04-01      NaN   \n",
       "\n",
       "       property_type new_build estate_type                        saon  \\\n",
       "647174             O         N           F        PLOTS 56-64, PHASE 2   \n",
       "647175             O         N           F                         NaN   \n",
       "647176             O         N           F                         NaN   \n",
       "647177             O         N           F                         NaN   \n",
       "647178             O         N           F                         NaN   \n",
       "...              ...       ...         ...                         ...   \n",
       "669304             O         N           F                         NaN   \n",
       "669305             O         N           L               PLOTS 347-352   \n",
       "669306             O         N           L  PLOTS 509-512, 526 AND 538   \n",
       "669307             O         N           L               PLOTS 514-520   \n",
       "669308             O         N           L  PLOTS 563-568, 571 AND 572   \n",
       "\n",
       "                                   paon                 street  ... doterm  \\\n",
       "647174                WHITE HORSE FIELD            HIGH STREET  ...    NaN   \n",
       "647175                          PLOT 29             GREAT LANE  ...    NaN   \n",
       "647176                          PLOT 41             GREAT LANE  ...    NaN   \n",
       "647177                          PLOT 46             GREAT LANE  ...    NaN   \n",
       "647178                          PLOT 48             GREAT LANE  ...    NaN   \n",
       "...                                 ...                    ...  ...    ...   \n",
       "669304           VICTORIA SPORTS GROUND  SPENNELLS VALLEY ROAD  ...    NaN   \n",
       "669305  LEA CASTLE HOSPITAL DEVELOPMENT                    NaN  ...    NaN   \n",
       "669306  LEA CASTLE HOSPITAL DEVELOPMENT                    NaN  ...    NaN   \n",
       "669307  LEA CASTLE HOSPITAL DEVELOPMENT                    NaN  ...    NaN   \n",
       "669308  LEA CASTLE HOSPITAL DEVELOPMENT                    NaN  ...    NaN   \n",
       "\n",
       "        pcd pcd2 pcds laua lat long LAD21CD               LAD21NM LAD21NMW  \n",
       "647174  NaN  NaN  NaN  NaN NaN  NaN     NaN  CENTRAL BEDFORDSHIRE      NaN  \n",
       "647175  NaN  NaN  NaN  NaN NaN  NaN     NaN  CENTRAL BEDFORDSHIRE      NaN  \n",
       "647176  NaN  NaN  NaN  NaN NaN  NaN     NaN  CENTRAL BEDFORDSHIRE      NaN  \n",
       "647177  NaN  NaN  NaN  NaN NaN  NaN     NaN  CENTRAL BEDFORDSHIRE      NaN  \n",
       "647178  NaN  NaN  NaN  NaN NaN  NaN     NaN  CENTRAL BEDFORDSHIRE      NaN  \n",
       "...     ...  ...  ...  ...  ..  ...     ...                   ...      ...  \n",
       "669304  NaN  NaN  NaN  NaN NaN  NaN     NaN           WYRE FOREST      NaN  \n",
       "669305  NaN  NaN  NaN  NaN NaN  NaN     NaN           WYRE FOREST      NaN  \n",
       "669306  NaN  NaN  NaN  NaN NaN  NaN     NaN           WYRE FOREST      NaN  \n",
       "669307  NaN  NaN  NaN  NaN NaN  NaN     NaN           WYRE FOREST      NaN  \n",
       "669308  NaN  NaN  NaN  NaN NaN  NaN     NaN           WYRE FOREST      NaN  \n",
       "\n",
       "[2109 rows x 28 columns]"
      ]
     },
     "execution_count": 20,
     "metadata": {},
     "output_type": "execute_result"
    }
   ],
   "source": [
    "#check any null laua in all_records\n",
    "unmatched = all_records[all_records['laua'].isnull()]\n",
    "all_records['LAD21NM']. fillna(all_records['district'], inplace=True)\n",
    "all_records[all_records['laua'].isnull()]"
   ]
  },
  {
   "cell_type": "code",
   "execution_count": 21,
   "id": "b33a5abb",
   "metadata": {
    "scrolled": true
   },
   "outputs": [
    {
     "name": "stderr",
     "output_type": "stream",
     "text": [
      "C:\\Users\\dorot\\AppData\\Local\\Temp/ipykernel_7956/665727722.py:2: SettingWithCopyWarning: \n",
      "A value is trying to be set on a copy of a slice from a DataFrame.\n",
      "Try using .loc[row_indexer,col_indexer] = value instead\n",
      "\n",
      "See the caveats in the documentation: https://pandas.pydata.org/pandas-docs/stable/user_guide/indexing.html#returning-a-view-versus-a-copy\n",
      "  unmatched['district_lower'] = unmatched['district'].str.lower()\n"
     ]
    },
    {
     "data": {
      "text/plain": [
       "array(['CITY OF BRISTOL', 'CITY OF WESTMINSTER', 'HEREFORDSHIRE',\n",
       "       'ST HELENS', 'EAST NORTHAMPTONSHIRE'], dtype=object)"
      ]
     },
     "execution_count": 21,
     "metadata": {},
     "output_type": "execute_result"
    }
   ],
   "source": [
    "#check if all districts are in all_LA\n",
    "unmatched['district_lower'] = unmatched['district'].str.lower()\n",
    "all_LA['LAD21NM_lower'] = all_LA['LAD21NM'].str.lower()\n",
    "merge5 = pd.merge(unmatched,all_LA, \n",
    "                  left_on ='district_lower', \n",
    "                  right_on='LAD21NM_lower', \n",
    "                  how='left')\n",
    "merge5[merge5['LAD21NM_lower'].isnull()]['district'].unique()"
   ]
  },
  {
   "cell_type": "markdown",
   "id": "29e9ec60",
   "metadata": {},
   "source": [
    "### 5 districts in unmatched cannot be found in all_LA, change them accordingly to align:\n",
    "CITY OF BRISTOL = Bristol, City of\n",
    "\n",
    "CITY OF WESTMINSTER = Westminster\n",
    "\n",
    "HEREFORDSHIRE = Herefordshire, County of\n",
    "\n",
    "ST HELENS = St. Helens\n",
    "\n",
    "EAST NORTHAMPTONSHIRE = North Northamptonshire"
   ]
  },
  {
   "cell_type": "code",
   "execution_count": 22,
   "id": "8ad3514a",
   "metadata": {},
   "outputs": [
    {
     "name": "stderr",
     "output_type": "stream",
     "text": [
      "C:\\Users\\dorot\\anaconda3\\lib\\site-packages\\pandas\\core\\indexing.py:1817: SettingWithCopyWarning: \n",
      "A value is trying to be set on a copy of a slice from a DataFrame.\n",
      "Try using .loc[row_indexer,col_indexer] = value instead\n",
      "\n",
      "See the caveats in the documentation: https://pandas.pydata.org/pandas-docs/stable/user_guide/indexing.html#returning-a-view-versus-a-copy\n",
      "  self._setitem_single_column(loc, value, pi)\n"
     ]
    }
   ],
   "source": [
    "#dictionary for matching districts to local authority names\n",
    "district_dict = {'CITY OF BRISTOL' : 'Bristol, City of',\n",
    "                 'CITY OF WESTMINSTER' : 'Westminster',\n",
    "                 'HEREFORDSHIRE' : 'Herefordshire, County of',\n",
    "                 'ST HELENS' : 'St. Helens',\n",
    "                 'EAST NORTHAMPTONSHIRE' : 'North Northamptonshire'\n",
    "                }\n",
    "\n",
    "#update districts according to the dictionary\n",
    "for key in district_dict: unmatched.loc[unmatched['district'] == key] = district_dict[key]"
   ]
  },
  {
   "cell_type": "markdown",
   "id": "b3d2a646",
   "metadata": {},
   "source": [
    "### Get LAD21CD and LAD21NM of records with undefined postcodes"
   ]
  },
  {
   "cell_type": "code",
   "execution_count": 23,
   "id": "5fa8430c",
   "metadata": {},
   "outputs": [],
   "source": [
    "#convert LAD21NM to lower case\n",
    "all_LA['LAD21NM_lower'] = all_LA['LAD21NM'].map(lambda x: x.lower())\n",
    "\n",
    "#loop the unmatched records and fill in LAD21CD and LAD21NM by checking all_LA\n",
    "unmatched.reset_index()\n",
    "for index,row in unmatched.iterrows():\n",
    "  district_lower = row['district'].lower()\n",
    "  LA_code = all_LA.loc[all_LA['LAD21NM_lower']==district_lower]['LAD21CD']\n",
    "  LA_name = all_LA.loc[all_LA['LAD21NM_lower']==district_lower]['LAD21NM']\n",
    "  all_records.at[index,'LAD21CD'] = LA_code.astype('string').item()\n",
    "  all_records.at[index,'LAD21NM'] = LA_name.astype('string').item()"
   ]
  },
  {
   "cell_type": "code",
   "execution_count": 24,
   "id": "ec13fbd1",
   "metadata": {},
   "outputs": [
    {
     "data": {
      "text/html": [
       "<div>\n",
       "<style scoped>\n",
       "    .dataframe tbody tr th:only-of-type {\n",
       "        vertical-align: middle;\n",
       "    }\n",
       "\n",
       "    .dataframe tbody tr th {\n",
       "        vertical-align: top;\n",
       "    }\n",
       "\n",
       "    .dataframe thead th {\n",
       "        text-align: right;\n",
       "    }\n",
       "</style>\n",
       "<table border=\"1\" class=\"dataframe\">\n",
       "  <thead>\n",
       "    <tr style=\"text-align: right;\">\n",
       "      <th></th>\n",
       "      <th>unique_id</th>\n",
       "      <th>price_paid</th>\n",
       "      <th>deed_date</th>\n",
       "      <th>postcode</th>\n",
       "      <th>property_type</th>\n",
       "      <th>new_build</th>\n",
       "      <th>estate_type</th>\n",
       "      <th>saon</th>\n",
       "      <th>paon</th>\n",
       "      <th>street</th>\n",
       "      <th>...</th>\n",
       "      <th>pcd2</th>\n",
       "      <th>pcds</th>\n",
       "      <th>laua</th>\n",
       "      <th>lat</th>\n",
       "      <th>long</th>\n",
       "      <th>LAD21CD</th>\n",
       "      <th>LAD21NM</th>\n",
       "      <th>LAD21NMW_x</th>\n",
       "      <th>LAD21NMW_y</th>\n",
       "      <th>LAD21NM_lower</th>\n",
       "    </tr>\n",
       "  </thead>\n",
       "  <tbody>\n",
       "  </tbody>\n",
       "</table>\n",
       "<p>0 rows × 30 columns</p>\n",
       "</div>"
      ],
      "text/plain": [
       "Empty DataFrame\n",
       "Columns: [unique_id, price_paid, deed_date, postcode, property_type, new_build, estate_type, saon, paon, street, locality, town, district, county, transaction_category, linked_data_uri, postcode_outward, postcode_inward, doterm, pcd, pcd2, pcds, laua, lat, long, LAD21CD, LAD21NM, LAD21NMW_x, LAD21NMW_y, LAD21NM_lower]\n",
       "Index: []\n",
       "\n",
       "[0 rows x 30 columns]"
      ]
     },
     "execution_count": 24,
     "metadata": {},
     "output_type": "execute_result"
    }
   ],
   "source": [
    "#check if any LAD21CD and LAD21NM not in all_LA\n",
    "merge4 = pd.merge(all_records, all_LA,\n",
    "                  left_on=['LAD21CD','LAD21NM'],\n",
    "                  right_on=['LAD21CD','LAD21NM'],\n",
    "                  how='left')\n",
    "merge4[merge4['LAD21CD'].isnull() & merge4['doterm'].isnull() & merge4['doterm']==\"\"]"
   ]
  },
  {
   "cell_type": "markdown",
   "id": "b5d1851a",
   "metadata": {},
   "source": [
    "Check the number of records after merging, and then check the unique values of a few columns to see any abnormalities."
   ]
  },
  {
   "cell_type": "code",
   "execution_count": 25,
   "id": "3ec4b7c5",
   "metadata": {},
   "outputs": [
    {
     "data": {
      "text/plain": [
       "(669309, 28)"
      ]
     },
     "execution_count": 25,
     "metadata": {},
     "output_type": "execute_result"
    }
   ],
   "source": [
    "#get shape of all_records\n",
    "all_records.shape"
   ]
  },
  {
   "cell_type": "code",
   "execution_count": 26,
   "id": "596c294c",
   "metadata": {},
   "outputs": [
    {
     "data": {
      "text/plain": [
       "array(['F', 'D', 'T', 'S', 'O'], dtype=object)"
      ]
     },
     "execution_count": 26,
     "metadata": {},
     "output_type": "execute_result"
    }
   ],
   "source": [
    "all_records['property_type'].unique()"
   ]
  },
  {
   "cell_type": "code",
   "execution_count": 27,
   "id": "cf8ee7a7",
   "metadata": {},
   "outputs": [
    {
     "data": {
      "text/plain": [
       "array(['N', 'Y'], dtype=object)"
      ]
     },
     "execution_count": 27,
     "metadata": {},
     "output_type": "execute_result"
    }
   ],
   "source": [
    "all_records['new_build'].unique()"
   ]
  },
  {
   "cell_type": "code",
   "execution_count": 28,
   "id": "cabce7ac",
   "metadata": {},
   "outputs": [
    {
     "data": {
      "text/plain": [
       "array(['L', 'F'], dtype=object)"
      ]
     },
     "execution_count": 28,
     "metadata": {},
     "output_type": "execute_result"
    }
   ],
   "source": [
    "all_records['estate_type'].unique()"
   ]
  },
  {
   "cell_type": "code",
   "execution_count": 29,
   "id": "df6d4104",
   "metadata": {},
   "outputs": [
    {
     "data": {
      "text/plain": [
       "array(['A', 'B'], dtype=object)"
      ]
     },
     "execution_count": 29,
     "metadata": {},
     "output_type": "execute_result"
    }
   ],
   "source": [
    "all_records['transaction_category'].unique()"
   ]
  },
  {
   "cell_type": "markdown",
   "id": "fb32e0da",
   "metadata": {},
   "source": [
    "Since 'transaction_category' = B means non standard price paid entry, which is irrevelant in this analysis, we'll remove them."
   ]
  },
  {
   "cell_type": "code",
   "execution_count": 30,
   "id": "91292f83",
   "metadata": {},
   "outputs": [
    {
     "data": {
      "text/plain": [
       "A    577511\n",
       "B     91798\n",
       "Name: transaction_category, dtype: int64"
      ]
     },
     "execution_count": 30,
     "metadata": {},
     "output_type": "execute_result"
    }
   ],
   "source": [
    "#Get number of records of each transaction_category\n",
    "all_records['transaction_category'].value_counts()"
   ]
  },
  {
   "cell_type": "code",
   "execution_count": 31,
   "id": "5193078f",
   "metadata": {},
   "outputs": [
    {
     "data": {
      "text/html": [
       "<div>\n",
       "<style scoped>\n",
       "    .dataframe tbody tr th:only-of-type {\n",
       "        vertical-align: middle;\n",
       "    }\n",
       "\n",
       "    .dataframe tbody tr th {\n",
       "        vertical-align: top;\n",
       "    }\n",
       "\n",
       "    .dataframe thead th {\n",
       "        text-align: right;\n",
       "    }\n",
       "</style>\n",
       "<table border=\"1\" class=\"dataframe\">\n",
       "  <thead>\n",
       "    <tr style=\"text-align: right;\">\n",
       "      <th></th>\n",
       "      <th>unique_id</th>\n",
       "      <th>price_paid</th>\n",
       "      <th>deed_date</th>\n",
       "      <th>postcode</th>\n",
       "      <th>property_type</th>\n",
       "      <th>new_build</th>\n",
       "      <th>estate_type</th>\n",
       "      <th>saon</th>\n",
       "      <th>paon</th>\n",
       "      <th>street</th>\n",
       "      <th>...</th>\n",
       "      <th>doterm</th>\n",
       "      <th>pcd</th>\n",
       "      <th>pcd2</th>\n",
       "      <th>pcds</th>\n",
       "      <th>laua</th>\n",
       "      <th>lat</th>\n",
       "      <th>long</th>\n",
       "      <th>LAD21CD</th>\n",
       "      <th>LAD21NM</th>\n",
       "      <th>LAD21NMW</th>\n",
       "    </tr>\n",
       "  </thead>\n",
       "  <tbody>\n",
       "    <tr>\n",
       "      <th>0</th>\n",
       "      <td>CFC9085C-4A0B-9A70-E053-6B04A8C09D6A</td>\n",
       "      <td>393000</td>\n",
       "      <td>2021-05-24</td>\n",
       "      <td>EN5 1JQ</td>\n",
       "      <td>F</td>\n",
       "      <td>N</td>\n",
       "      <td>L</td>\n",
       "      <td>1</td>\n",
       "      <td>LYONSDOWN COURT, 41</td>\n",
       "      <td>LYONSDOWN ROAD</td>\n",
       "      <td>...</td>\n",
       "      <td>NaN</td>\n",
       "      <td>EN5 1JQ</td>\n",
       "      <td>EN5  1JQ</td>\n",
       "      <td>EN5 1JQ</td>\n",
       "      <td>E09000003</td>\n",
       "      <td>51.645730</td>\n",
       "      <td>-0.176743</td>\n",
       "      <td>E09000003</td>\n",
       "      <td>Barnet</td>\n",
       "      <td>NaN</td>\n",
       "    </tr>\n",
       "    <tr>\n",
       "      <th>1</th>\n",
       "      <td>CD5A9DCB-7ADE-310A-E053-6C04A8C00A1F</td>\n",
       "      <td>260000</td>\n",
       "      <td>2021-04-09</td>\n",
       "      <td>EN5 1JQ</td>\n",
       "      <td>F</td>\n",
       "      <td>N</td>\n",
       "      <td>L</td>\n",
       "      <td>11</td>\n",
       "      <td>LYONSDOWN COURT, 41</td>\n",
       "      <td>LYONSDOWN ROAD</td>\n",
       "      <td>...</td>\n",
       "      <td>NaN</td>\n",
       "      <td>EN5 1JQ</td>\n",
       "      <td>EN5  1JQ</td>\n",
       "      <td>EN5 1JQ</td>\n",
       "      <td>E09000003</td>\n",
       "      <td>51.645730</td>\n",
       "      <td>-0.176743</td>\n",
       "      <td>E09000003</td>\n",
       "      <td>Barnet</td>\n",
       "      <td>NaN</td>\n",
       "    </tr>\n",
       "    <tr>\n",
       "      <th>2</th>\n",
       "      <td>CB0035E5-7E47-58AE-E053-6B04A8C091AF</td>\n",
       "      <td>740000</td>\n",
       "      <td>2021-04-27</td>\n",
       "      <td>LU1 4AD</td>\n",
       "      <td>D</td>\n",
       "      <td>N</td>\n",
       "      <td>F</td>\n",
       "      <td>NaN</td>\n",
       "      <td>MANOR FARM HOUSE</td>\n",
       "      <td>LUTON ROAD</td>\n",
       "      <td>...</td>\n",
       "      <td>NaN</td>\n",
       "      <td>LU1 4AD</td>\n",
       "      <td>LU1  4AD</td>\n",
       "      <td>LU1 4AD</td>\n",
       "      <td>E06000056</td>\n",
       "      <td>51.868461</td>\n",
       "      <td>-0.452248</td>\n",
       "      <td>E06000056</td>\n",
       "      <td>Central Bedfordshire</td>\n",
       "      <td>NaN</td>\n",
       "    </tr>\n",
       "    <tr>\n",
       "      <th>3</th>\n",
       "      <td>D707E534-BFF1-0AD9-E053-6B04A8C067CC</td>\n",
       "      <td>270000</td>\n",
       "      <td>2021-06-30</td>\n",
       "      <td>LU1 4AF</td>\n",
       "      <td>T</td>\n",
       "      <td>N</td>\n",
       "      <td>F</td>\n",
       "      <td>NaN</td>\n",
       "      <td>21</td>\n",
       "      <td>LUTON ROAD</td>\n",
       "      <td>...</td>\n",
       "      <td>NaN</td>\n",
       "      <td>LU1 4AF</td>\n",
       "      <td>LU1  4AF</td>\n",
       "      <td>LU1 4AF</td>\n",
       "      <td>E06000056</td>\n",
       "      <td>51.866784</td>\n",
       "      <td>-0.454644</td>\n",
       "      <td>E06000056</td>\n",
       "      <td>Central Bedfordshire</td>\n",
       "      <td>NaN</td>\n",
       "    </tr>\n",
       "    <tr>\n",
       "      <th>4</th>\n",
       "      <td>C18F412A-7B87-81A6-E053-6B04A8C0AD18</td>\n",
       "      <td>325000</td>\n",
       "      <td>2021-02-25</td>\n",
       "      <td>LU1 4AL</td>\n",
       "      <td>S</td>\n",
       "      <td>N</td>\n",
       "      <td>F</td>\n",
       "      <td>NaN</td>\n",
       "      <td>5</td>\n",
       "      <td>DUNSTABLE ROAD</td>\n",
       "      <td>...</td>\n",
       "      <td>NaN</td>\n",
       "      <td>LU1 4AL</td>\n",
       "      <td>LU1  4AL</td>\n",
       "      <td>LU1 4AL</td>\n",
       "      <td>E06000056</td>\n",
       "      <td>51.864613</td>\n",
       "      <td>-0.459850</td>\n",
       "      <td>E06000056</td>\n",
       "      <td>Central Bedfordshire</td>\n",
       "      <td>NaN</td>\n",
       "    </tr>\n",
       "  </tbody>\n",
       "</table>\n",
       "<p>5 rows × 28 columns</p>\n",
       "</div>"
      ],
      "text/plain": [
       "                              unique_id  price_paid   deed_date postcode  \\\n",
       "0  CFC9085C-4A0B-9A70-E053-6B04A8C09D6A      393000  2021-05-24  EN5 1JQ   \n",
       "1  CD5A9DCB-7ADE-310A-E053-6C04A8C00A1F      260000  2021-04-09  EN5 1JQ   \n",
       "2  CB0035E5-7E47-58AE-E053-6B04A8C091AF      740000  2021-04-27  LU1 4AD   \n",
       "3  D707E534-BFF1-0AD9-E053-6B04A8C067CC      270000  2021-06-30  LU1 4AF   \n",
       "4  C18F412A-7B87-81A6-E053-6B04A8C0AD18      325000  2021-02-25  LU1 4AL   \n",
       "\n",
       "  property_type new_build estate_type saon                 paon  \\\n",
       "0             F         N           L    1  LYONSDOWN COURT, 41   \n",
       "1             F         N           L   11  LYONSDOWN COURT, 41   \n",
       "2             D         N           F  NaN     MANOR FARM HOUSE   \n",
       "3             T         N           F  NaN                   21   \n",
       "4             S         N           F  NaN                    5   \n",
       "\n",
       "           street  ... doterm      pcd      pcd2     pcds       laua  \\\n",
       "0  LYONSDOWN ROAD  ...    NaN  EN5 1JQ  EN5  1JQ  EN5 1JQ  E09000003   \n",
       "1  LYONSDOWN ROAD  ...    NaN  EN5 1JQ  EN5  1JQ  EN5 1JQ  E09000003   \n",
       "2      LUTON ROAD  ...    NaN  LU1 4AD  LU1  4AD  LU1 4AD  E06000056   \n",
       "3      LUTON ROAD  ...    NaN  LU1 4AF  LU1  4AF  LU1 4AF  E06000056   \n",
       "4  DUNSTABLE ROAD  ...    NaN  LU1 4AL  LU1  4AL  LU1 4AL  E06000056   \n",
       "\n",
       "         lat      long    LAD21CD               LAD21NM LAD21NMW  \n",
       "0  51.645730 -0.176743  E09000003                Barnet      NaN  \n",
       "1  51.645730 -0.176743  E09000003                Barnet      NaN  \n",
       "2  51.868461 -0.452248  E06000056  Central Bedfordshire      NaN  \n",
       "3  51.866784 -0.454644  E06000056  Central Bedfordshire      NaN  \n",
       "4  51.864613 -0.459850  E06000056  Central Bedfordshire      NaN  \n",
       "\n",
       "[5 rows x 28 columns]"
      ]
     },
     "execution_count": 31,
     "metadata": {},
     "output_type": "execute_result"
    }
   ],
   "source": [
    "#Drop records with transaction_category == \"B\"\n",
    "all_records = all_records[all_records.transaction_category != \"B\"]\n",
    "all_records.head()"
   ]
  },
  {
   "cell_type": "markdown",
   "id": "2e764a7b",
   "metadata": {},
   "source": [
    "To minimize file size, we'll drop unnecessary columns"
   ]
  },
  {
   "cell_type": "code",
   "execution_count": 32,
   "id": "9793e155",
   "metadata": {},
   "outputs": [],
   "source": [
    "#Drop unnecessary columns\n",
    "all_records = all_records.drop(columns = ['saon','paon','street','locality','town','district','county','transaction_category','linked_data_uri','doterm','pcd','pcd2','pcds','LAD21NMW'])"
   ]
  },
  {
   "cell_type": "code",
   "execution_count": 33,
   "id": "aacb8671",
   "metadata": {},
   "outputs": [
    {
     "data": {
      "text/html": [
       "<div>\n",
       "<style scoped>\n",
       "    .dataframe tbody tr th:only-of-type {\n",
       "        vertical-align: middle;\n",
       "    }\n",
       "\n",
       "    .dataframe tbody tr th {\n",
       "        vertical-align: top;\n",
       "    }\n",
       "\n",
       "    .dataframe thead th {\n",
       "        text-align: right;\n",
       "    }\n",
       "</style>\n",
       "<table border=\"1\" class=\"dataframe\">\n",
       "  <thead>\n",
       "    <tr style=\"text-align: right;\">\n",
       "      <th></th>\n",
       "      <th>unique_id</th>\n",
       "      <th>price_paid</th>\n",
       "      <th>deed_date</th>\n",
       "      <th>postcode</th>\n",
       "      <th>property_type</th>\n",
       "      <th>new_build</th>\n",
       "      <th>estate_type</th>\n",
       "      <th>postcode_outward</th>\n",
       "      <th>postcode_inward</th>\n",
       "      <th>laua</th>\n",
       "      <th>lat</th>\n",
       "      <th>long</th>\n",
       "      <th>LAD21CD</th>\n",
       "      <th>LAD21NM</th>\n",
       "    </tr>\n",
       "  </thead>\n",
       "  <tbody>\n",
       "  </tbody>\n",
       "</table>\n",
       "</div>"
      ],
      "text/plain": [
       "Empty DataFrame\n",
       "Columns: [unique_id, price_paid, deed_date, postcode, property_type, new_build, estate_type, postcode_outward, postcode_inward, laua, lat, long, LAD21CD, LAD21NM]\n",
       "Index: []"
      ]
     },
     "execution_count": 33,
     "metadata": {},
     "output_type": "execute_result"
    }
   ],
   "source": [
    "all_records[all_records['LAD21NM'].isnull()]"
   ]
  },
  {
   "cell_type": "code",
   "execution_count": 34,
   "id": "05e74cc4",
   "metadata": {},
   "outputs": [
    {
     "data": {
      "text/plain": [
       "count      577511.000\n",
       "mean       368291.096\n",
       "std        488181.739\n",
       "min           355.000\n",
       "25%        187000.000\n",
       "50%        286500.000\n",
       "75%        435000.000\n",
       "max     210000000.000\n",
       "Name: price_paid, dtype: float64"
      ]
     },
     "execution_count": 34,
     "metadata": {},
     "output_type": "execute_result"
    }
   ],
   "source": [
    "pd.set_option('display.float_format', lambda x: '%.3f' % x)\n",
    "all_records[\"price_paid\"].describe()"
   ]
  },
  {
   "cell_type": "code",
   "execution_count": 35,
   "id": "b67fafdb",
   "metadata": {},
   "outputs": [],
   "source": [
    "# 25th Percentile\n",
    "def q25(x):\n",
    "    return x.quantile(0.25)\n",
    "\n",
    "# 75th Percentile\n",
    "def q75(x):\n",
    "    return x.quantile(0.75)\n",
    "\n",
    "# 90th Percentile\n",
    "def q90(x):\n",
    "    return x.quantile(0.9)"
   ]
  },
  {
   "cell_type": "code",
   "execution_count": 36,
   "id": "3aa01f78",
   "metadata": {},
   "outputs": [],
   "source": [
    "#eng_properties_summary = pd.DataFrame(eng_properties_final.groupby(['postcode_outward','estate_type','property_type','new_build'])\n",
    "                                      #.agg({'price_paid': ['count','mean', 'min', 'max', 'median','std',q25,q75,q90]}))\n",
    "eng_properties_summary = pd.DataFrame(all_records.groupby(['postcode_outward','estate_type','property_type','new_build'])\n",
    "                                      .agg(properties_count = ('postcode_outward','count'),\n",
    "                                           price_mean = ('price_paid','mean'),\n",
    "                                           price_min = ('price_paid','min'),\n",
    "                                           price_max = ('price_paid','max'),\n",
    "                                           price_median = ('price_paid','median'),\n",
    "                                           price_std = ('price_paid','std'),\n",
    "                                           price_q25 = ('price_paid',q25),\n",
    "                                           price_q75 = ('price_paid',q75),\n",
    "                                           price_q90 = ('price_paid',q90),\n",
    "                                          ))"
   ]
  },
  {
   "cell_type": "code",
   "execution_count": 37,
   "id": "20bb7a08",
   "metadata": {},
   "outputs": [],
   "source": [
    "eng_properties_summary.to_csv(output_summary)\n",
    "all_records.to_csv(output_details)"
   ]
  },
  {
   "cell_type": "code",
   "execution_count": 40,
   "id": "03aeeef6",
   "metadata": {},
   "outputs": [
    {
     "data": {
      "text/plain": [
       "'2022-01-26'"
      ]
     },
     "execution_count": 40,
     "metadata": {},
     "output_type": "execute_result"
    }
   ],
   "source": [
    "all_records[\"deed_date\"].max()"
   ]
  },
  {
   "cell_type": "code",
   "execution_count": null,
   "id": "c5c1edfd",
   "metadata": {},
   "outputs": [],
   "source": []
  }
 ],
 "metadata": {
  "kernelspec": {
   "display_name": "Python 3 (ipykernel)",
   "language": "python",
   "name": "python3"
  },
  "language_info": {
   "codemirror_mode": {
    "name": "ipython",
    "version": 3
   },
   "file_extension": ".py",
   "mimetype": "text/x-python",
   "name": "python",
   "nbconvert_exporter": "python",
   "pygments_lexer": "ipython3",
   "version": "3.9.7"
  }
 },
 "nbformat": 4,
 "nbformat_minor": 5
}
